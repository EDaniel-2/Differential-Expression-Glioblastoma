{
 "cells": [
  {
   "cell_type": "markdown",
   "metadata": {},
   "source": [
    "# Data Analysis"
   ]
  },
  {
   "cell_type": "markdown",
   "metadata": {},
   "source": [
    "Download python libraries using the [pip](https://pip.pypa.io/en/stable/quickstart/) command."
   ]
  },
  {
   "cell_type": "code",
   "execution_count": null,
   "metadata": {},
   "outputs": [],
   "source": [
    "import pandas as pd\n",
    "from sklearn.manifold import TSNE\n",
    "from sklearn.decomposition import PCA\n",
    "import time\n",
    "import math\n",
    "from plotnine import *\n",
    "import numpy as np\n",
    "import os"
   ]
  },
  {
   "cell_type": "code",
   "execution_count": null,
   "metadata": {},
   "outputs": [],
   "source": [
    "#import data\n",
    "a1 = pd.read_csv(os.environ['WORKDIR'] + '/kallisto/1a/abundance.tsv', sep='\\t', header=0, usecols=['target_id', 'tpm'])\n",
    "a2 = pd.read_csv(os.environ['WORKDIR'] + '/kallisto/2a/abundance.tsv', sep='\\t', header=0, usecols=['target_id', 'tpm'])\n",
    "a3 = pd.read_csv(os.environ['WORKDIR'] + '/kallisto/3a/abundance.tsv', sep='\\t', header=0, usecols=['target_id', 'tpm'])\n",
    "c1 = pd.read_csv(os.environ['WORKDIR'] + '/kallisto/1c/abundance.tsv', sep='\\t', header=0, usecols=['target_id', 'tpm'])\n",
    "c2 = pd.read_csv(os.environ['WORKDIR'] + '/kallisto/2c/abundance.tsv', sep='\\t', header=0, usecols=['target_id', 'tpm'])\n",
    "c3 = pd.read_csv(os.environ['WORKDIR'] + '/kallisto/3c/abundance.tsv', sep='\\t', header=0, usecols=['target_id', 'tpm'])\n",
    "\n",
    "#parse each sample's data\n",
    "a1.rename(columns = {'tpm':'a1'}, inplace = True)\n",
    "a2.rename(columns = {'tpm':'a2'}, inplace = True)\n",
    "a3.rename(columns = {'tpm':'a3'}, inplace = True)\n",
    "c1.rename(columns = {'tpm':'c1'}, inplace = True)\n",
    "c2.rename(columns = {'tpm':'c2'}, inplace = True)\n",
    "c3.rename(columns = {'tpm':'c3'}, inplace = True)\n",
    "a2 = a2.drop('target_id', axis=1)\n",
    "a3 = a3.drop('target_id', axis=1)\n",
    "c1 = c1.drop('target_id', axis=1)\n",
    "c2 = c2.drop('target_id', axis=1)\n",
    "c3 = c3.drop('target_id', axis=1)\n",
    "\n",
    "#combine samples into one table, where each row represents a sample and columns represent transcript\n",
    "dataframe = pd.concat([a1,a2,a3,c1,c2,c3], axis=1)\n",
    "dataframe = dataframe.T\n",
    "dataframe.columns = dataframe.iloc[0]\n",
    "dataframe = dataframe.drop('target_id')\n",
    "\n",
    "#clear memory, don't need references anymore\n",
    "del a1,a2,a3,c1,c2,c3\n",
    "\n",
    "#clean data by removing possible noise\n",
    "#filter out columns where any value is less than 10 (lowly expressed)\n",
    "min_threshold = 10\n",
    "for column in dataframe:\n",
    "    for value in dataframe[column]:\n",
    "        if value < min_threshold:\n",
    "            dataframe.drop(column, axis=1, inplace=True)\n",
    "            break\n",
    "\n",
    "#log base 10 all values in dataframe\n",
    "dataframe.applymap(lambda x: math.log(x, 10))"
   ]
  },
  {
   "cell_type": "code",
   "execution_count": null,
   "metadata": {},
   "outputs": [],
   "source": [
    "# perform PCA calculations\n",
    "pca = PCA(n_components=2)\n",
    "pca_result = pca.fit_transform(dataframe.values)\n",
    "\n",
    "print ('Explained variation per principal component {}'.format(pca.explained_variance_ratio_))\n",
    "dataframe['PC1'] = pca_result[:,0]\n",
    "dataframe['PC2'] = pca_result[:,1] \n",
    "dataframe['label'] = pd.Series(['before', 'before', 'before', 'after', 'after', 'after'], index = dataframe.index)"
   ]
  },
  {
   "cell_type": "code",
   "execution_count": null,
   "metadata": {},
   "outputs": [],
   "source": [
    "# graph t-SNE\n",
    "chart = ggplot(dataframe, aes(x='tSNE1', y='tSNE2', color='label') ) \\\n",
    "        + geom_point(size=3,alpha=1) \\\n",
    "        + ggtitle(\"tSNE dimensions colored by digit\")\n",
    "chart"
   ]
  }
 ],
 "metadata": {
  "kernelspec": {
   "display_name": "Python 3",
   "language": "python",
   "name": "python3"
  },
  "language_info": {
   "codemirror_mode": {
    "name": "ipython",
    "version": 3
   },
   "file_extension": ".py",
   "mimetype": "text/x-python",
   "name": "python",
   "nbconvert_exporter": "python",
   "pygments_lexer": "ipython3",
   "version": "3.8.2"
  }
 },
 "nbformat": 4,
 "nbformat_minor": 4
}

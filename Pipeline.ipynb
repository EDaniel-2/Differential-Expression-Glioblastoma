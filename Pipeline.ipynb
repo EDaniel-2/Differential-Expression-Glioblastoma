{
 "cells": [
  {
   "cell_type": "markdown",
   "metadata": {},
   "source": [
    "# Pipeline\n",
    "#### this is the Trimmomatic-Kallisto pipeline, RNA-Seq data in the FASTQ format is the input, and transcripts with the levels of expression in the tsv format is the output."
   ]
  },
  {
   "cell_type": "markdown",
   "metadata": {},
   "source": [
    "#### Set Working Directory"
   ]
  },
  {
   "cell_type": "code",
   "execution_count": 1,
   "metadata": {},
   "outputs": [],
   "source": [
    "#RERUN this cell after restarting this notebook to set the WORKDIR variable\n",
    "import os\n",
    "os.environ['WORKDIR'] = './data'\n",
    "#Move the new directory named data to your desired working directory"
   ]
  },
  {
   "cell_type": "markdown",
   "metadata": {},
   "source": [
    "Update your files so the different samples are organized:\n",
    "<html>\n",
    "    <code><i>project_name</i>/\n",
    "    data/\n",
    "        cleanFASTQ/\n",
    "            1c/\n",
    "            1h/\n",
    "            2c/\n",
    "            2h/\n",
    "            3c/\n",
    "            3h/\n",
    "        FASTQ/\n",
    "            1c/\n",
    "            1h/\n",
    "            2c/\n",
    "            2h/\n",
    "            3c/\n",
    "            3h/\n",
    "        kallisto/\n",
    "            1c/\n",
    "            1h/\n",
    "            2c/\n",
    "            2h/\n",
    "            3c/\n",
    "            3h/\n",
    "        gdcReference/\n",
    "        seqData/</code>\n",
    "</html>"
   ]
  },
  {
   "cell_type": "markdown",
   "metadata": {},
   "source": [
    "Download the Java software [Trimmomatic](http://www.usadellab.org/cms/?page=trimmomatic) to clean the reads. Trimmomatic uses the quality measurements in the FASTQ format to cut nucleotides that are ambiguous. Save trimmomatic to the software directory and add the bin file to your PATH. Java is necessary to run this software."
   ]
  },
  {
   "cell_type": "code",
   "execution_count": 5,
   "metadata": {},
   "outputs": [
    {
     "name": "stdout",
     "output_type": "stream",
     "text": [
      "TrimmomaticSE: Started with arguments:\n",
      " -phred33 ./data/FASTQ/1c/SRR11862840.fastq ./data/cleanFASTQ/1c/SRR11862840_1.fastq LEADING:3 TRAILING:3 SLIDINGWINDOW:4:15 MINLEN:36\n",
      "Automatically using 4 threads\n",
      "Input Reads: 7601798 Surviving: 5598966 (73.65%) Dropped: 2002832 (26.35%)\n",
      "TrimmomaticSE: Completed successfully\n"
     ]
    }
   ],
   "source": [
    "!java -jar /mnt/d/software/Trimmomatic-0.39/trimmomatic-0.39.jar SE -phred33 \\\n",
    "    $WORKDIR/FASTQ/1c/SRR11862840.fastq \\\n",
    "    $WORKDIR/cleanFASTQ/1c/SRR11862840_1.fastq \\\n",
    "    LEADING:3 TRAILING:3 SLIDINGWINDOW:4:15 MINLEN:36"
   ]
  },
  {
   "cell_type": "code",
   "execution_count": 6,
   "metadata": {},
   "outputs": [
    {
     "name": "stdout",
     "output_type": "stream",
     "text": [
      "TrimmomaticSE: Started with arguments:\n",
      " -phred33 ./data/FASTQ/1h/SRR11862839.fastq ./data/cleanFASTQ/1h/SRR11862839_1.fastq LEADING:3 TRAILING:3 SLIDINGWINDOW:4:15 MINLEN:36\n",
      "Automatically using 4 threads\n",
      "Input Reads: 7556819 Surviving: 5482773 (72.55%) Dropped: 2074046 (27.45%)\n",
      "TrimmomaticSE: Completed successfully\n"
     ]
    }
   ],
   "source": [
    "!java -jar /mnt/d/software/Trimmomatic-0.39/trimmomatic-0.39.jar SE -phred33 \\\n",
    "    $WORKDIR/FASTQ/1h/SRR11862839.fastq \\\n",
    "    $WORKDIR/cleanFASTQ/1h/SRR11862839_1.fastq \\\n",
    "    LEADING:3 TRAILING:3 SLIDINGWINDOW:4:15 MINLEN:36"
   ]
  },
  {
   "cell_type": "code",
   "execution_count": 7,
   "metadata": {},
   "outputs": [
    {
     "name": "stdout",
     "output_type": "stream",
     "text": [
      "TrimmomaticSE: Started with arguments:\n",
      " -phred33 ./data/FASTQ/2c/SRR11862838.fastq ./data/cleanFASTQ/2c/SRR11862838_1.fastq LEADING:3 TRAILING:3 SLIDINGWINDOW:4:15 MINLEN:36\n",
      "Automatically using 4 threads\n",
      "Input Reads: 3115255 Surviving: 2074688 (66.60%) Dropped: 1040567 (33.40%)\n",
      "TrimmomaticSE: Completed successfully\n"
     ]
    }
   ],
   "source": [
    "!java -jar /mnt/d/software/Trimmomatic-0.39/trimmomatic-0.39.jar SE -phred33 \\\n",
    "    $WORKDIR/FASTQ/2c/SRR11862838.fastq \\\n",
    "    $WORKDIR/cleanFASTQ/2c/SRR11862838_1.fastq \\\n",
    "    LEADING:3 TRAILING:3 SLIDINGWINDOW:4:15 MINLEN:36"
   ]
  },
  {
   "cell_type": "code",
   "execution_count": 8,
   "metadata": {},
   "outputs": [
    {
     "name": "stdout",
     "output_type": "stream",
     "text": [
      "TrimmomaticSE: Started with arguments:\n",
      " -phred33 ./data/FASTQ/2h/SRR11862837.fastq ./data/cleanFASTQ/2h/SRR11862837_1.fastq LEADING:3 TRAILING:3 SLIDINGWINDOW:4:15 MINLEN:36\n",
      "Automatically using 4 threads\n",
      "Input Reads: 3630969 Surviving: 2564738 (70.64%) Dropped: 1066231 (29.36%)\n",
      "TrimmomaticSE: Completed successfully\n"
     ]
    }
   ],
   "source": [
    "!java -jar /mnt/d/software/Trimmomatic-0.39/trimmomatic-0.39.jar SE -phred33 \\\n",
    "    $WORKDIR/FASTQ/2h/SRR11862837.fastq \\\n",
    "    $WORKDIR/cleanFASTQ/2h/SRR11862837_1.fastq \\\n",
    "    LEADING:3 TRAILING:3 SLIDINGWINDOW:4:15 MINLEN:36"
   ]
  },
  {
   "cell_type": "code",
   "execution_count": 9,
   "metadata": {},
   "outputs": [
    {
     "name": "stdout",
     "output_type": "stream",
     "text": [
      "TrimmomaticSE: Started with arguments:\n",
      " -phred33 ./data/FASTQ/3c/SRR11862836.fastq ./data/cleanFASTQ/3c/SRR11862836_1.fastq LEADING:3 TRAILING:3 SLIDINGWINDOW:4:15 MINLEN:36\n",
      "Automatically using 4 threads\n",
      "Input Reads: 5931474 Surviving: 4838901 (81.58%) Dropped: 1092573 (18.42%)\n",
      "TrimmomaticSE: Completed successfully\n"
     ]
    }
   ],
   "source": [
    "!java -jar /mnt/d/software/Trimmomatic-0.39/trimmomatic-0.39.jar SE -phred33 \\\n",
    "    $WORKDIR/FASTQ/3c/SRR11862836.fastq \\\n",
    "    $WORKDIR/cleanFASTQ/3c/SRR11862836_1.fastq \\\n",
    "    LEADING:3 TRAILING:3 SLIDINGWINDOW:4:15 MINLEN:36"
   ]
  },
  {
   "cell_type": "code",
   "execution_count": 10,
   "metadata": {},
   "outputs": [
    {
     "name": "stdout",
     "output_type": "stream",
     "text": [
      "TrimmomaticSE: Started with arguments:\n",
      " -phred33 ./data/FASTQ/3h/SRR11862835.fastq ./data/cleanFASTQ/3h/SRR11862835_1.fastq LEADING:3 TRAILING:3 SLIDINGWINDOW:4:15 MINLEN:36\n",
      "Automatically using 4 threads\n",
      "Input Reads: 13070277 Surviving: 10689297 (81.78%) Dropped: 2380980 (18.22%)\n",
      "TrimmomaticSE: Completed successfully\n"
     ]
    }
   ],
   "source": [
    "!java -jar /mnt/d/software/Trimmomatic-0.39/trimmomatic-0.39.jar SE -phred33 \\\n",
    "    $WORKDIR/FASTQ/3h/SRR11862835.fastq \\\n",
    "    $WORKDIR/cleanFASTQ/3h/SRR11862835_1.fastq \\\n",
    "    LEADING:3 TRAILING:3 SLIDINGWINDOW:4:15 MINLEN:36"
   ]
  },
  {
   "cell_type": "markdown",
   "metadata": {},
   "source": [
    "Download the [Reference Sequence](https://gdc.cancer.gov/about-data/gdc-data-processing/gdc-reference-files) and save it to the gdcReference directory."
   ]
  },
  {
   "cell_type": "code",
   "execution_count": null,
   "metadata": {},
   "outputs": [],
   "source": [
    "!gunzip $WORKDIR/gdcReference/GRCh38.d1.vd1.fa.tar.gz"
   ]
  },
  {
   "cell_type": "code",
   "execution_count": 24,
   "metadata": {},
   "outputs": [],
   "source": [
    "!tar -xf $WORKDIR/gdcReference/GRCh38.d1.vd1.fa.tar"
   ]
  },
  {
   "cell_type": "markdown",
   "metadata": {},
   "source": [
    "Make sure the FASTA file (ending in .fa) is in the gdcReference directory"
   ]
  },
  {
   "cell_type": "markdown",
   "metadata": {},
   "source": [
    "Download [Kallisto](https://pachterlab.github.io/kallisto/), a software that uses the reference sequence to match the reads from our samples to the transcriptome. Kallisto also measures the abundance of those reads."
   ]
  },
  {
   "cell_type": "code",
   "execution_count": 34,
   "metadata": {},
   "outputs": [
    {
     "name": "stdout",
     "output_type": "stream",
     "text": [
      "\n",
      "[build] loading fasta file ./data/gdcReference/GRCh38.d1.vd1.fa\n",
      "[build] k-mer length: 31\n",
      "[build] warning: clipped off poly-A tail (longer than 10)\n",
      "        from 30 target sequences\n",
      "[build] warning: replaced 165046094 non-ACGUT characters in the input sequence\n",
      "        with pseudorandom nucleotides\n",
      "[build] counting k-mers ... terminate called after throwing an instance of 'std::bad_alloc'\n",
      "  what():  std::bad_alloc\n"
     ]
    }
   ],
   "source": [
    "!kallisto index -i $WORKDIR/kallisto/transcripts.idx $WORKDIR/gdcReference/GRCh38.d1.vd1.fa"
   ]
  },
  {
   "cell_type": "code",
   "execution_count": 27,
   "metadata": {},
   "outputs": [
    {
     "name": "stdout",
     "output_type": "stream",
     "text": [
      "\n",
      "Error: kallisto index file not found ./data/kallisto/transcripts.idx\n",
      "Error: paired-end mode requires an even number of input files\n",
      "       (use --single for processing single-end reads)\n",
      "Error: could not create directory ./data/kallisto/output/1c\n",
      "\n",
      "Usage: kallisto quant [arguments] FASTQ-files\n",
      "\n",
      "Required arguments:\n",
      "-i, --index=STRING            Filename for the kallisto index to be used for\n",
      "                              quantification\n",
      "-o, --output-dir=STRING       Directory to write output to\n",
      "\n",
      "Optional arguments:\n",
      "    --bias                    Perform sequence based bias correction\n",
      "-b, --bootstrap-samples=INT   Number of bootstrap samples (default: 0)\n",
      "    --seed=INT                Seed for the bootstrap sampling (default: 42)\n",
      "    --plaintext               Output plaintext instead of HDF5\n",
      "    --fusion                  Search for fusions for Pizzly\n",
      "    --single                  Quantify single-end reads\n",
      "    --single-overhang         Include reads where unobserved rest of fragment is\n",
      "                              predicted to lie outside a transcript\n",
      "    --fr-stranded             Strand specific reads, first read forward\n",
      "    --rf-stranded             Strand specific reads, first read reverse\n",
      "-l, --fragment-length=DOUBLE  Estimated average fragment length\n",
      "-s, --sd=DOUBLE               Estimated standard deviation of fragment length\n",
      "                              (default: -l, -s values are estimated from paired\n",
      "                               end data, but are required when using --single)\n",
      "-t, --threads=INT             Number of threads to use (default: 1)\n",
      "    --pseudobam               Save pseudoalignments to transcriptome to BAM file\n",
      "    --genomebam               Project pseudoalignments to genome sorted BAM file\n",
      "-g, --gtf                     GTF file for transcriptome information\n",
      "                              (required for --genomebam)\n",
      "-c, --chromosomes             Tab separated file with chromosome names and lengths\n",
      "                              (optional for --genomebam, but recommended)\n",
      "    --verbose                 Print out progress information every 1M proccessed reads\n"
     ]
    }
   ],
   "source": [
    "!kallisto quant -i $WORKDIR/kallisto/transcripts.idx -o $WORKDIR/kallisto/output/1c \\\n",
    "    $WORKDIR/cleanFASTQ/1c/SRR11862840_1.fastq"
   ]
  },
  {
   "cell_type": "code",
   "execution_count": 28,
   "metadata": {},
   "outputs": [
    {
     "name": "stdout",
     "output_type": "stream",
     "text": [
      "\n",
      "Error: kallisto index file not found ./data/kallisto/transcripts.idx\n",
      "Error: paired-end mode requires an even number of input files\n",
      "       (use --single for processing single-end reads)\n",
      "Error: could not create directory ./data/kallisto/output/1h\n",
      "\n",
      "Usage: kallisto quant [arguments] FASTQ-files\n",
      "\n",
      "Required arguments:\n",
      "-i, --index=STRING            Filename for the kallisto index to be used for\n",
      "                              quantification\n",
      "-o, --output-dir=STRING       Directory to write output to\n",
      "\n",
      "Optional arguments:\n",
      "    --bias                    Perform sequence based bias correction\n",
      "-b, --bootstrap-samples=INT   Number of bootstrap samples (default: 0)\n",
      "    --seed=INT                Seed for the bootstrap sampling (default: 42)\n",
      "    --plaintext               Output plaintext instead of HDF5\n",
      "    --fusion                  Search for fusions for Pizzly\n",
      "    --single                  Quantify single-end reads\n",
      "    --single-overhang         Include reads where unobserved rest of fragment is\n",
      "                              predicted to lie outside a transcript\n",
      "    --fr-stranded             Strand specific reads, first read forward\n",
      "    --rf-stranded             Strand specific reads, first read reverse\n",
      "-l, --fragment-length=DOUBLE  Estimated average fragment length\n",
      "-s, --sd=DOUBLE               Estimated standard deviation of fragment length\n",
      "                              (default: -l, -s values are estimated from paired\n",
      "                               end data, but are required when using --single)\n",
      "-t, --threads=INT             Number of threads to use (default: 1)\n",
      "    --pseudobam               Save pseudoalignments to transcriptome to BAM file\n",
      "    --genomebam               Project pseudoalignments to genome sorted BAM file\n",
      "-g, --gtf                     GTF file for transcriptome information\n",
      "                              (required for --genomebam)\n",
      "-c, --chromosomes             Tab separated file with chromosome names and lengths\n",
      "                              (optional for --genomebam, but recommended)\n",
      "    --verbose                 Print out progress information every 1M proccessed reads\n"
     ]
    }
   ],
   "source": [
    "!kallisto quant -i $WORKDIR/kallisto/transcripts.idx -o $WORKDIR/kallisto/output/1h \\\n",
    "    $WORKDIR/cleanFASTQ/1h/SRR11862839_1.fastq"
   ]
  },
  {
   "cell_type": "code",
   "execution_count": 29,
   "metadata": {},
   "outputs": [
    {
     "name": "stdout",
     "output_type": "stream",
     "text": [
      "\n",
      "Error: kallisto index file not found ./data/kallisto/transcripts.idx\n",
      "Error: paired-end mode requires an even number of input files\n",
      "       (use --single for processing single-end reads)\n",
      "Error: could not create directory ./data/kallisto/output/2c\n",
      "\n",
      "Usage: kallisto quant [arguments] FASTQ-files\n",
      "\n",
      "Required arguments:\n",
      "-i, --index=STRING            Filename for the kallisto index to be used for\n",
      "                              quantification\n",
      "-o, --output-dir=STRING       Directory to write output to\n",
      "\n",
      "Optional arguments:\n",
      "    --bias                    Perform sequence based bias correction\n",
      "-b, --bootstrap-samples=INT   Number of bootstrap samples (default: 0)\n",
      "    --seed=INT                Seed for the bootstrap sampling (default: 42)\n",
      "    --plaintext               Output plaintext instead of HDF5\n",
      "    --fusion                  Search for fusions for Pizzly\n",
      "    --single                  Quantify single-end reads\n",
      "    --single-overhang         Include reads where unobserved rest of fragment is\n",
      "                              predicted to lie outside a transcript\n",
      "    --fr-stranded             Strand specific reads, first read forward\n",
      "    --rf-stranded             Strand specific reads, first read reverse\n",
      "-l, --fragment-length=DOUBLE  Estimated average fragment length\n",
      "-s, --sd=DOUBLE               Estimated standard deviation of fragment length\n",
      "                              (default: -l, -s values are estimated from paired\n",
      "                               end data, but are required when using --single)\n",
      "-t, --threads=INT             Number of threads to use (default: 1)\n",
      "    --pseudobam               Save pseudoalignments to transcriptome to BAM file\n",
      "    --genomebam               Project pseudoalignments to genome sorted BAM file\n",
      "-g, --gtf                     GTF file for transcriptome information\n",
      "                              (required for --genomebam)\n",
      "-c, --chromosomes             Tab separated file with chromosome names and lengths\n",
      "                              (optional for --genomebam, but recommended)\n",
      "    --verbose                 Print out progress information every 1M proccessed reads\n"
     ]
    }
   ],
   "source": [
    "!kallisto quant -i $WORKDIR/kallisto/transcripts.idx -o $WORKDIR/kallisto/output/2c \\\n",
    "    $WORKDIR/cleanFASTQ/2c/SRR11862838_1.fastq"
   ]
  },
  {
   "cell_type": "code",
   "execution_count": 30,
   "metadata": {},
   "outputs": [
    {
     "name": "stdout",
     "output_type": "stream",
     "text": [
      "\n",
      "Error: kallisto index file not found ./data/kallisto/transcripts.idx\n",
      "Error: paired-end mode requires an even number of input files\n",
      "       (use --single for processing single-end reads)\n",
      "Error: could not create directory ./data/kallisto/output/2h\n",
      "\n",
      "Usage: kallisto quant [arguments] FASTQ-files\n",
      "\n",
      "Required arguments:\n",
      "-i, --index=STRING            Filename for the kallisto index to be used for\n",
      "                              quantification\n",
      "-o, --output-dir=STRING       Directory to write output to\n",
      "\n",
      "Optional arguments:\n",
      "    --bias                    Perform sequence based bias correction\n",
      "-b, --bootstrap-samples=INT   Number of bootstrap samples (default: 0)\n",
      "    --seed=INT                Seed for the bootstrap sampling (default: 42)\n",
      "    --plaintext               Output plaintext instead of HDF5\n",
      "    --fusion                  Search for fusions for Pizzly\n",
      "    --single                  Quantify single-end reads\n",
      "    --single-overhang         Include reads where unobserved rest of fragment is\n",
      "                              predicted to lie outside a transcript\n",
      "    --fr-stranded             Strand specific reads, first read forward\n",
      "    --rf-stranded             Strand specific reads, first read reverse\n",
      "-l, --fragment-length=DOUBLE  Estimated average fragment length\n",
      "-s, --sd=DOUBLE               Estimated standard deviation of fragment length\n",
      "                              (default: -l, -s values are estimated from paired\n",
      "                               end data, but are required when using --single)\n",
      "-t, --threads=INT             Number of threads to use (default: 1)\n",
      "    --pseudobam               Save pseudoalignments to transcriptome to BAM file\n",
      "    --genomebam               Project pseudoalignments to genome sorted BAM file\n",
      "-g, --gtf                     GTF file for transcriptome information\n",
      "                              (required for --genomebam)\n",
      "-c, --chromosomes             Tab separated file with chromosome names and lengths\n",
      "                              (optional for --genomebam, but recommended)\n",
      "    --verbose                 Print out progress information every 1M proccessed reads\n"
     ]
    }
   ],
   "source": [
    "!kallisto quant -i $WORKDIR/kallisto/transcripts.idx -o $WORKDIR/kallisto/output/2h \\\n",
    "    $WORKDIR/cleanFASTQ/2h/SRR11862837_1.fastq"
   ]
  },
  {
   "cell_type": "code",
   "execution_count": 31,
   "metadata": {},
   "outputs": [
    {
     "name": "stdout",
     "output_type": "stream",
     "text": [
      "\n",
      "Error: kallisto index file not found ./data/kallisto/transcripts.idx\n",
      "Error: paired-end mode requires an even number of input files\n",
      "       (use --single for processing single-end reads)\n",
      "Error: could not create directory ./data/kallisto/output/3c\n",
      "\n",
      "Usage: kallisto quant [arguments] FASTQ-files\n",
      "\n",
      "Required arguments:\n",
      "-i, --index=STRING            Filename for the kallisto index to be used for\n",
      "                              quantification\n",
      "-o, --output-dir=STRING       Directory to write output to\n",
      "\n",
      "Optional arguments:\n",
      "    --bias                    Perform sequence based bias correction\n",
      "-b, --bootstrap-samples=INT   Number of bootstrap samples (default: 0)\n",
      "    --seed=INT                Seed for the bootstrap sampling (default: 42)\n",
      "    --plaintext               Output plaintext instead of HDF5\n",
      "    --fusion                  Search for fusions for Pizzly\n",
      "    --single                  Quantify single-end reads\n",
      "    --single-overhang         Include reads where unobserved rest of fragment is\n",
      "                              predicted to lie outside a transcript\n",
      "    --fr-stranded             Strand specific reads, first read forward\n",
      "    --rf-stranded             Strand specific reads, first read reverse\n",
      "-l, --fragment-length=DOUBLE  Estimated average fragment length\n",
      "-s, --sd=DOUBLE               Estimated standard deviation of fragment length\n",
      "                              (default: -l, -s values are estimated from paired\n",
      "                               end data, but are required when using --single)\n",
      "-t, --threads=INT             Number of threads to use (default: 1)\n",
      "    --pseudobam               Save pseudoalignments to transcriptome to BAM file\n",
      "    --genomebam               Project pseudoalignments to genome sorted BAM file\n",
      "-g, --gtf                     GTF file for transcriptome information\n",
      "                              (required for --genomebam)\n",
      "-c, --chromosomes             Tab separated file with chromosome names and lengths\n",
      "                              (optional for --genomebam, but recommended)\n",
      "    --verbose                 Print out progress information every 1M proccessed reads\n"
     ]
    }
   ],
   "source": [
    "!kallisto quant -i $WORKDIR/kallisto/transcripts.idx -o $WORKDIR/kallisto/output/3c \\\n",
    "    $WORKDIR/cleanFASTQ/3c/SRR11862836_1.fastq"
   ]
  },
  {
   "cell_type": "code",
   "execution_count": 32,
   "metadata": {},
   "outputs": [
    {
     "name": "stdout",
     "output_type": "stream",
     "text": [
      "\n",
      "Error: kallisto index file not found ./data/kallisto/transcripts.idx\n",
      "Error: paired-end mode requires an even number of input files\n",
      "       (use --single for processing single-end reads)\n",
      "Error: could not create directory ./data/kallisto/output/3h\n",
      "\n",
      "Usage: kallisto quant [arguments] FASTQ-files\n",
      "\n",
      "Required arguments:\n",
      "-i, --index=STRING            Filename for the kallisto index to be used for\n",
      "                              quantification\n",
      "-o, --output-dir=STRING       Directory to write output to\n",
      "\n",
      "Optional arguments:\n",
      "    --bias                    Perform sequence based bias correction\n",
      "-b, --bootstrap-samples=INT   Number of bootstrap samples (default: 0)\n",
      "    --seed=INT                Seed for the bootstrap sampling (default: 42)\n",
      "    --plaintext               Output plaintext instead of HDF5\n",
      "    --fusion                  Search for fusions for Pizzly\n",
      "    --single                  Quantify single-end reads\n",
      "    --single-overhang         Include reads where unobserved rest of fragment is\n",
      "                              predicted to lie outside a transcript\n",
      "    --fr-stranded             Strand specific reads, first read forward\n",
      "    --rf-stranded             Strand specific reads, first read reverse\n",
      "-l, --fragment-length=DOUBLE  Estimated average fragment length\n",
      "-s, --sd=DOUBLE               Estimated standard deviation of fragment length\n",
      "                              (default: -l, -s values are estimated from paired\n",
      "                               end data, but are required when using --single)\n",
      "-t, --threads=INT             Number of threads to use (default: 1)\n",
      "    --pseudobam               Save pseudoalignments to transcriptome to BAM file\n",
      "    --genomebam               Project pseudoalignments to genome sorted BAM file\n",
      "-g, --gtf                     GTF file for transcriptome information\n",
      "                              (required for --genomebam)\n",
      "-c, --chromosomes             Tab separated file with chromosome names and lengths\n",
      "                              (optional for --genomebam, but recommended)\n",
      "    --verbose                 Print out progress information every 1M proccessed reads\n"
     ]
    }
   ],
   "source": [
    "!kallisto quant -i $WORKDIR/kallisto/transcripts.idx -o $WORKDIR/kallisto/output/3h \\\n",
    "    $WORKDIR/cleanFASTQ/3h/SRR11862835_1.fastq"
   ]
  }
 ],
 "metadata": {
  "kernelspec": {
   "display_name": "Python 3",
   "language": "python",
   "name": "python3"
  },
  "language_info": {
   "codemirror_mode": {
    "name": "ipython",
    "version": 3
   },
   "file_extension": ".py",
   "mimetype": "text/x-python",
   "name": "python",
   "nbconvert_exporter": "python",
   "pygments_lexer": "ipython3",
   "version": "3.8.2"
  }
 },
 "nbformat": 4,
 "nbformat_minor": 4
}

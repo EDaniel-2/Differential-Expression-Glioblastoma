{
 "cells": [
  {
   "cell_type": "markdown",
   "metadata": {},
   "source": [
    "## Preparation"
   ]
  },
  {
   "cell_type": "markdown",
   "metadata": {},
   "source": [
    "This pipeline is based off of the pipeline in [Counting Transcripts](https://github.com/hypercubestart/Counting-Transcripts).\n",
    "I use this pipeline to clean and align the glioblastoma RNA-seq data to the transcriptome."
   ]
  },
  {
   "cell_type": "markdown",
   "metadata": {},
   "source": [
    "#### Set Working Directory"
   ]
  },
  {
   "cell_type": "code",
   "execution_count": 1,
   "metadata": {},
   "outputs": [],
   "source": [
    "#RERUN this cell after restarting this notebook to set the WORKDIR variable\n",
    "import os\n",
    "os.environ['WORKDIR'] = './data'\n",
    "#Move the new directory named data to your desired working directory"
   ]
  },
  {
   "cell_type": "code",
   "execution_count": null,
   "metadata": {},
   "outputs": [],
   "source": [
    "#create the directory if doesn't exist already\n",
    "!mkdir -p $WORKDIR"
   ]
  },
  {
   "cell_type": "markdown",
   "metadata": {},
   "source": [
    "Inside the data directory, organize files like so:\n",
    "<html>\n",
    "    <code><i>project_name</i>/\n",
    "    data/\n",
    "        cleanFASTQ/\n",
    "        FASTQ/\n",
    "        kallisto/\n",
    "        gdcReference/\n",
    "        seqData/</code>\n",
    "</html>"
   ]
  },
  {
   "cell_type": "markdown",
   "metadata": {},
   "source": [
    "We download RNA-Seq reads from a published work:https://www.ncbi.nlm.nih.gov/bioproject/635587. We will only use a subset of the data, as analyzing all of the samples would take a lot of time and space."
   ]
  },
  {
   "cell_type": "markdown",
   "metadata": {},
   "source": [
    "To download and convert these files into the FASTQ format, you will need to download [SRA Toolkit](https://www.ncbi.nlm.nih.gov/books/NBK158900/). The FASTQ format contains the RNA reads, as well as the quality of those reads."
   ]
  },
  {
   "cell_type": "markdown",
   "metadata": {},
   "source": [
    "Save the SRA Toolkit to a directory called software and add the binary file (bin) to your [PATH](https://en.wikipedia.org/wiki/PATH_(variable)) so the commands are recognized."
   ]
  },
  {
   "cell_type": "code",
   "execution_count": 2,
   "metadata": {},
   "outputs": [
    {
     "name": "stdout",
     "output_type": "stream",
     "text": [
      "--2020-08-10 14:06:48--  https://sra-download.ncbi.nlm.nih.gov/traces/sra58/SRR/011584/SRR11862840\n",
      "Resolving sra-download.ncbi.nlm.nih.gov (sra-download.ncbi.nlm.nih.gov)... 165.112.9.231, 130.14.250.28, 130.14.250.25\n",
      "Connecting to sra-download.ncbi.nlm.nih.gov (sra-download.ncbi.nlm.nih.gov)|165.112.9.231|:443... connected.\n",
      "HTTP request sent, awaiting response... 200 OK\n",
      "Length: 551105353 (526M) [application/octet-stream]\n",
      "Saving to: ‘SRR11862840’\n",
      "\n",
      "SRR11862840         100%[===================>] 525.57M  12.8MB/s    in 60s     \n",
      "\n",
      "2020-08-10 14:07:49 (8.75 MB/s) - ‘SRR11862840’ saved [551105353/551105353]\n",
      "\n",
      "--2020-08-10 14:07:49--  https://sra-download.ncbi.nlm.nih.gov/traces/sra24/SRR/011584/SRR11862839\n",
      "Resolving sra-download.ncbi.nlm.nih.gov (sra-download.ncbi.nlm.nih.gov)... 130.14.250.28, 130.14.250.25, 165.112.9.235\n",
      "Connecting to sra-download.ncbi.nlm.nih.gov (sra-download.ncbi.nlm.nih.gov)|130.14.250.28|:443... connected.\n",
      "HTTP request sent, awaiting response... 200 OK\n",
      "Length: 570522735 (544M) [application/octet-stream]\n",
      "Saving to: ‘SRR11862839’\n",
      "\n",
      "SRR11862839         100%[===================>] 544.09M  14.4MB/s    in 41s     \n",
      "\n",
      "2020-08-10 14:08:31 (13.2 MB/s) - ‘SRR11862839’ saved [570522735/570522735]\n",
      "\n",
      "--2020-08-10 14:08:31--  https://sra-download.ncbi.nlm.nih.gov/traces/sra74/SRR/011584/SRR11862838\n",
      "Resolving sra-download.ncbi.nlm.nih.gov (sra-download.ncbi.nlm.nih.gov)... 165.112.9.231, 130.14.250.25, 130.14.250.28\n",
      "Connecting to sra-download.ncbi.nlm.nih.gov (sra-download.ncbi.nlm.nih.gov)|165.112.9.231|:443... connected.\n",
      "HTTP request sent, awaiting response... 200 OK\n",
      "Length: 239503952 (228M) [application/octet-stream]\n",
      "Saving to: ‘SRR11862838’\n",
      "\n",
      "SRR11862838         100%[===================>] 228.41M  13.2MB/s    in 19s     \n",
      "\n",
      "2020-08-10 14:08:51 (12.1 MB/s) - ‘SRR11862838’ saved [239503952/239503952]\n",
      "\n",
      "--2020-08-10 14:08:51--  https://sra-download.ncbi.nlm.nih.gov/traces/sra38/SRR/011584/SRR11862837\n",
      "Resolving sra-download.ncbi.nlm.nih.gov (sra-download.ncbi.nlm.nih.gov)... 165.112.9.235, 130.14.250.28, 165.112.9.238\n",
      "Connecting to sra-download.ncbi.nlm.nih.gov (sra-download.ncbi.nlm.nih.gov)|165.112.9.235|:443... connected.\n",
      "HTTP request sent, awaiting response... 200 OK\n",
      "Length: 276859014 (264M) [application/octet-stream]\n",
      "Saving to: ‘SRR11862837’\n",
      "\n",
      "SRR11862837         100%[===================>] 264.03M  5.29MB/s    in 35s     \n",
      "\n",
      "2020-08-10 14:09:27 (7.54 MB/s) - ‘SRR11862837’ saved [276859014/276859014]\n",
      "\n",
      "--2020-08-10 14:09:27--  https://sra-download.ncbi.nlm.nih.gov/traces/sra68/SRR/011584/SRR11862836\n",
      "Resolving sra-download.ncbi.nlm.nih.gov (sra-download.ncbi.nlm.nih.gov)... 130.14.250.24, 130.14.250.25, 165.112.9.238\n",
      "Connecting to sra-download.ncbi.nlm.nih.gov (sra-download.ncbi.nlm.nih.gov)|130.14.250.24|:443... connected.\n",
      "HTTP request sent, awaiting response... 200 OK\n",
      "Length: 426019604 (406M) [application/octet-stream]\n",
      "Saving to: ‘SRR11862836’\n",
      "\n",
      "SRR11862836         100%[===================>] 406.28M  14.4MB/s    in 33s     \n",
      "\n",
      "2020-08-10 14:10:00 (12.3 MB/s) - ‘SRR11862836’ saved [426019604/426019604]\n",
      "\n",
      "--2020-08-10 14:10:00--  https://sra-download.ncbi.nlm.nih.gov/traces/sra63/SRR/011584/SRR11862835\n",
      "Resolving sra-download.ncbi.nlm.nih.gov (sra-download.ncbi.nlm.nih.gov)... 130.14.250.24, 130.14.250.25, 130.14.250.28\n",
      "Connecting to sra-download.ncbi.nlm.nih.gov (sra-download.ncbi.nlm.nih.gov)|130.14.250.24|:443... connected.\n",
      "HTTP request sent, awaiting response... 200 OK\n",
      "Length: 917766931 (875M) [application/octet-stream]\n",
      "Saving to: ‘SRR11862835.1’\n",
      "\n",
      "SRR11862835.1       100%[===================>] 875.25M  13.4MB/s    in 3m 53s  \n",
      "\n",
      "2020-08-10 14:13:54 (3.76 MB/s) - ‘SRR11862835.1’ saved [917766931/917766931]\n",
      "\n"
     ]
    }
   ],
   "source": [
    "!wget https://sra-download.ncbi.nlm.nih.gov/traces/sra58/SRR/011584/SRR11862840\n",
    "!wget https://sra-download.ncbi.nlm.nih.gov/traces/sra24/SRR/011584/SRR11862839\n",
    "!wget https://sra-download.ncbi.nlm.nih.gov/traces/sra74/SRR/011584/SRR11862838\n",
    "!wget https://sra-download.ncbi.nlm.nih.gov/traces/sra38/SRR/011584/SRR11862837\n",
    "!wget https://sra-download.ncbi.nlm.nih.gov/traces/sra68/SRR/011584/SRR11862836\n",
    "!wget https://sra-download.ncbi.nlm.nih.gov/traces/sra63/SRR/011584/SRR11862835"
   ]
  },
  {
   "cell_type": "markdown",
   "metadata": {},
   "source": [
    "If the above command returned `wget: command not found`, means you don't have the command `wget` in your machine. To install wget, install Homebrew, run `brew install wget` in your terminal, and then try the above command again."
   ]
  },
  {
   "cell_type": "markdown",
   "metadata": {},
   "source": [
    "Move these files into the data/seqData/ directory"
   ]
  },
  {
   "cell_type": "markdown",
   "metadata": {},
   "source": [
    "The command `fastq-dump` converts the RNA-Seq data into the FASTQ format, which can then be put into the pipeline."
   ]
  },
  {
   "cell_type": "code",
   "execution_count": 3,
   "metadata": {},
   "outputs": [
    {
     "name": "stdout",
     "output_type": "stream",
     "text": [
      "Read 7601798 spots for ./data/seqData/SRR11862840\n",
      "Written 7601798 spots for ./data/seqData/SRR11862840\n"
     ]
    }
   ],
   "source": [
    "!fastq-dump -O $WORKDIR/FASTQ/1c $WORKDIR/seqData/SRR11862840"
   ]
  },
  {
   "cell_type": "code",
   "execution_count": 4,
   "metadata": {},
   "outputs": [
    {
     "name": "stdout",
     "output_type": "stream",
     "text": [
      "Read 7556819 spots for ./data/seqData/SRR11862839\n",
      "Written 7556819 spots for ./data/seqData/SRR11862839\n"
     ]
    }
   ],
   "source": [
    "!fastq-dump -O $WORKDIR/FASTQ/1h $WORKDIR/seqData/SRR11862839"
   ]
  },
  {
   "cell_type": "code",
   "execution_count": 19,
   "metadata": {},
   "outputs": [
    {
     "name": "stdout",
     "output_type": "stream",
     "text": [
      "Read 3115255 spots for ./data/seqData/SRR11862838\n",
      "Written 3115255 spots for ./data/seqData/SRR11862838\n"
     ]
    }
   ],
   "source": [
    "!fastq-dump -O $WORKDIR/FASTQ/2c $WORKDIR/seqData/SRR11862838"
   ]
  },
  {
   "cell_type": "code",
   "execution_count": 5,
   "metadata": {},
   "outputs": [
    {
     "name": "stdout",
     "output_type": "stream",
     "text": [
      "Read 3630969 spots for ./data/seqData/SRR11862837\n",
      "Written 3630969 spots for ./data/seqData/SRR11862837\n"
     ]
    }
   ],
   "source": [
    "!fastq-dump -O $WORKDIR/FASTQ/2h $WORKDIR/seqData/SRR11862837"
   ]
  },
  {
   "cell_type": "code",
   "execution_count": 16,
   "metadata": {},
   "outputs": [
    {
     "name": "stdout",
     "output_type": "stream",
     "text": [
      "Read 5931474 spots for ./data/seqData/SRR11862836\n",
      "Written 5931474 spots for ./data/seqData/SRR11862836\n"
     ]
    }
   ],
   "source": [
    "!fastq-dump -O $WORKDIR/FASTQ/3c $WORKDIR/seqData/SRR11862836"
   ]
  },
  {
   "cell_type": "code",
   "execution_count": null,
   "metadata": {},
   "outputs": [],
   "source": [
    "!fastq-dump -O $WORKDIR/FASTQ/3h $WORKDIR/seqData/SRR11862835"
   ]
  }
 ],
 "metadata": {
  "kernelspec": {
   "display_name": "Python 3",
   "language": "python",
   "name": "python3"
  },
  "language_info": {
   "codemirror_mode": {
    "name": "ipython",
    "version": 3
   },
   "file_extension": ".py",
   "mimetype": "text/x-python",
   "name": "python",
   "nbconvert_exporter": "python",
   "pygments_lexer": "ipython3",
   "version": "3.8.2"
  }
 },
 "nbformat": 4,
 "nbformat_minor": 4
}
